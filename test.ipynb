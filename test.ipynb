{
 "cells": [
  {
   "cell_type": "code",
   "execution_count": 1,
   "metadata": {},
   "outputs": [],
   "source": [
    "import pandas as pd\n",
    "import numpy as np"
   ]
  },
  {
   "cell_type": "code",
   "execution_count": 2,
   "metadata": {},
   "outputs": [
    {
     "data": {
      "text/html": [
       "<div>\n",
       "<style scoped>\n",
       "    .dataframe tbody tr th:only-of-type {\n",
       "        vertical-align: middle;\n",
       "    }\n",
       "\n",
       "    .dataframe tbody tr th {\n",
       "        vertical-align: top;\n",
       "    }\n",
       "\n",
       "    .dataframe thead th {\n",
       "        text-align: right;\n",
       "    }\n",
       "</style>\n",
       "<table border=\"1\" class=\"dataframe\">\n",
       "  <thead>\n",
       "    <tr style=\"text-align: right;\">\n",
       "      <th></th>\n",
       "      <th>source</th>\n",
       "      <th>target</th>\n",
       "      <th>relation</th>\n",
       "    </tr>\n",
       "  </thead>\n",
       "  <tbody>\n",
       "    <tr>\n",
       "      <th>0</th>\n",
       "      <td>1</td>\n",
       "      <td>BC133</td>\n",
       "      <td>uses</td>\n",
       "    </tr>\n",
       "    <tr>\n",
       "      <th>1</th>\n",
       "      <td>2</td>\n",
       "      <td>BC133</td>\n",
       "      <td>uses</td>\n",
       "    </tr>\n",
       "    <tr>\n",
       "      <th>2</th>\n",
       "      <td>3</td>\n",
       "      <td>BC133</td>\n",
       "      <td>uses</td>\n",
       "    </tr>\n",
       "    <tr>\n",
       "      <th>3</th>\n",
       "      <td>4</td>\n",
       "      <td>BC133</td>\n",
       "      <td>uses</td>\n",
       "    </tr>\n",
       "    <tr>\n",
       "      <th>4</th>\n",
       "      <td>1</td>\n",
       "      <td>BC473</td>\n",
       "      <td>uses</td>\n",
       "    </tr>\n",
       "    <tr>\n",
       "      <th>...</th>\n",
       "      <td>...</td>\n",
       "      <td>...</td>\n",
       "      <td>...</td>\n",
       "    </tr>\n",
       "    <tr>\n",
       "      <th>132969</th>\n",
       "      <td>T040S</td>\n",
       "      <td>BC618</td>\n",
       "      <td>enables</td>\n",
       "    </tr>\n",
       "    <tr>\n",
       "      <th>132970</th>\n",
       "      <td>T040T</td>\n",
       "      <td>BC618</td>\n",
       "      <td>enables</td>\n",
       "    </tr>\n",
       "    <tr>\n",
       "      <th>132971</th>\n",
       "      <td>T042Z</td>\n",
       "      <td>BC618</td>\n",
       "      <td>enables</td>\n",
       "    </tr>\n",
       "    <tr>\n",
       "      <th>132972</th>\n",
       "      <td>T043</td>\n",
       "      <td>BC313</td>\n",
       "      <td>enables</td>\n",
       "    </tr>\n",
       "    <tr>\n",
       "      <th>132973</th>\n",
       "      <td>T043I</td>\n",
       "      <td>BC622</td>\n",
       "      <td>enables</td>\n",
       "    </tr>\n",
       "  </tbody>\n",
       "</table>\n",
       "<p>132974 rows × 3 columns</p>\n",
       "</div>"
      ],
      "text/plain": [
       "       source target relation\n",
       "0           1  BC133     uses\n",
       "1           2  BC133     uses\n",
       "2           3  BC133     uses\n",
       "3           4  BC133     uses\n",
       "4           1  BC473     uses\n",
       "...       ...    ...      ...\n",
       "132969  T040S  BC618  enables\n",
       "132970  T040T  BC618  enables\n",
       "132971  T042Z  BC618  enables\n",
       "132972   T043  BC313  enables\n",
       "132973  T043I  BC622  enables\n",
       "\n",
       "[132974 rows x 3 columns]"
      ]
     },
     "execution_count": 2,
     "metadata": {},
     "output_type": "execute_result"
    }
   ],
   "source": [
    "df = pd.read_csv('data/graph.csv')\n",
    "df"
   ]
  },
  {
   "cell_type": "code",
   "execution_count": 9,
   "metadata": {},
   "outputs": [
    {
     "data": {
      "text/plain": [
       "array(['BC133', 'BC473', 'BC693', 'BC314', 'BC413', 'BC486', 'BC324',\n",
       "       'BC673', 'BC264', 'BC239', 'BC686', 'BC083', 'BC248', 'BC244',\n",
       "       'BC628', 'BC420', 'BC225', 'BC454', 'BC681', 'BC721', 'BC452',\n",
       "       'BC183', 'BC308', 'BC012', 'BC160', 'BC607', 'BC178', 'BC303',\n",
       "       'BC157', 'BC174', 'BC727', 'BC288', 'BC306', 'BC304', 'BC320',\n",
       "       'BC322', 'BC079', 'BC606', 'BC624', 'BC312', 'BC073', 'BC282',\n",
       "       'BC279', 'BC067', 'BC537', 'BC525', 'BC093', 'BC077', 'BC195',\n",
       "       'BC245', 'BC685', 'BC477', 'BC166', 'BC126', 'BC095', 'BC074',\n",
       "       'BC235', 'BC722', 'BC549', 'BC660', 'BC065', 'BC382', 'BC548',\n",
       "       'BC223', 'BC326', 'BC605', 'BC656', 'BC163', 'BC056', 'BC103',\n",
       "       'BC112', 'BC502', 'BC251', 'BC618', 'BC517', 'BC297', 'BC273',\n",
       "       'BC697', 'BC276', 'BC446', 'BC313', 'BC622'], dtype=object)"
      ]
     },
     "execution_count": 9,
     "metadata": {},
     "output_type": "execute_result"
    }
   ],
   "source": [
    "items = df[(df['relation'] == 'uses') & (df['source']=='4')]['target'].unique()\n",
    "items"
   ]
  },
  {
   "cell_type": "code",
   "execution_count": 13,
   "metadata": {},
   "outputs": [
    {
     "data": {
      "text/plain": [
       "False"
      ]
     },
     "execution_count": 13,
     "metadata": {},
     "output_type": "execute_result"
    }
   ],
   "source": [
    "'BC019' in items"
   ]
  },
  {
   "cell_type": "code",
   "execution_count": null,
   "metadata": {},
   "outputs": [],
   "source": []
  }
 ],
 "metadata": {
  "kernelspec": {
   "display_name": "base",
   "language": "python",
   "name": "python3"
  },
  "language_info": {
   "codemirror_mode": {
    "name": "ipython",
    "version": 3
   },
   "file_extension": ".py",
   "mimetype": "text/x-python",
   "name": "python",
   "nbconvert_exporter": "python",
   "pygments_lexer": "ipython3",
   "version": "3.11.3"
  }
 },
 "nbformat": 4,
 "nbformat_minor": 2
}
